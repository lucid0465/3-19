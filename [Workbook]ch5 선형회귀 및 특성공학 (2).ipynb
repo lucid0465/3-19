{
 "cells": [
  {
   "cell_type": "markdown",
   "metadata": {
    "id": "4JTxsWF-5sXG"
   },
   "source": [
    "\n",
    "# [KDT] ch5 Linear Regression"
   ]
  },
  {
   "cell_type": "markdown",
   "metadata": {},
   "source": [
    "### 단일회귀 / 다중회귀 / 특성공학\n",
    " - 데이터셋: 직장인 연봉 정보 / 보스톤집값 / 공유자전거 플랫폼 / 다이아몬드 \n",
    " - 주요 라이브러리: statsmodels ols / sklearn linear_model / sklearn train_test_split / \n",
    " - 알파 퀴즈(1개) / 파이 퀴즈(1개) / 시그마 퀴즈(2개) / 오메가 퀴즈(과제 1개) "
   ]
  },
  {
   "cell_type": "code",
   "execution_count": null,
   "metadata": {},
   "outputs": [],
   "source": [
    "import os\n",
    "os.getcwd()"
   ]
  },
  {
   "cell_type": "code",
   "execution_count": null,
   "metadata": {
    "executionInfo": {
     "elapsed": 299,
     "status": "ok",
     "timestamp": 1668725561526,
     "user": {
      "displayName": "jinyang park",
      "userId": "06576046992691541404"
     },
     "user_tz": -540
    },
    "id": "Dtoe4P7Hwi_G"
   },
   "outputs": [],
   "source": [
    "import pandas as pd\n",
    "import numpy as np\n",
    "import matplotlib.pyplot as plt\n",
    "import seaborn as sns"
   ]
  },
  {
   "cell_type": "code",
   "execution_count": null,
   "metadata": {},
   "outputs": [],
   "source": [
    "import warnings\n",
    "warnings.filterwarnings('ignore')"
   ]
  },
  {
   "cell_type": "code",
   "execution_count": null,
   "metadata": {
    "executionInfo": {
     "elapsed": 1006,
     "status": "ok",
     "timestamp": 1668725562530,
     "user": {
      "displayName": "jinyang park",
      "userId": "06576046992691541404"
     },
     "user_tz": -540
    },
    "id": "2P_tOya1wwd_"
   },
   "outputs": [],
   "source": [
    "# 파일 로딩 \n",
    "df_hk = pd.read_csv('.\\\\data\\\\hk_221206.csv')"
   ]
  },
  {
   "cell_type": "code",
   "execution_count": null,
   "metadata": {
    "colab": {
     "base_uri": "https://localhost:8080/",
     "height": 424
    },
    "executionInfo": {
     "elapsed": 5,
     "status": "ok",
     "timestamp": 1668725562530,
     "user": {
      "displayName": "jinyang park",
      "userId": "06576046992691541404"
     },
     "user_tz": -540
    },
    "id": "jxkAxUHlw2xM",
    "outputId": "9a2881a6-5156-4ab0-b65a-7088512c3be6"
   },
   "outputs": [],
   "source": [
    "df_hk"
   ]
  },
  {
   "cell_type": "markdown",
   "metadata": {},
   "source": [
    "## $\\alpha$(알파) 퀴즈:\n",
    "전체 소득 대비 소비액 비율을 나타내는 합성 변수('expenditure_per_salary')를 만들고자 한다. \n",
    "<br> 수식 : expenditure_per_salary = expenditure / salary \n",
    "<br> expenditure_per_salary 합성변수를 만들고 해당 변수의 Company 그룹별 평균을 구하시오 "
   ]
  },
  {
   "cell_type": "code",
   "execution_count": null,
   "metadata": {},
   "outputs": [],
   "source": [
    "df = df_hk.copy()"
   ]
  },
  {
   "cell_type": "markdown",
   "metadata": {
    "id": "hfMi2HeL4piH"
   },
   "source": [
    "\n",
    "## 1-1. 단일 회귀 statemodels - ols()\n",
    "\n",
    "연봉으로 지출액을 예측할 수 있을까 ?"
   ]
  },
  {
   "cell_type": "code",
   "execution_count": null,
   "metadata": {
    "executionInfo": {
     "elapsed": 880,
     "status": "ok",
     "timestamp": 1668725563407,
     "user": {
      "displayName": "jinyang park",
      "userId": "06576046992691541404"
     },
     "user_tz": -540
    },
    "id": "h9KHPZGNxEQZ"
   },
   "outputs": [],
   "source": [
    "# statemodels - ols() 클래스 호출\n",
    "from statsmodels.formula.api import ols  # formula 형식"
   ]
  },
  {
   "cell_type": "code",
   "execution_count": null,
   "metadata": {},
   "outputs": [],
   "source": [
    "# 시각화 (x=\"salary\", y=\"expenditure\")\n",
    "sns.scatterplot( x=\"salary\", y=\"expenditure\", data = df, hue= 'company')\n",
    "plt.show()"
   ]
  },
  {
   "cell_type": "code",
   "execution_count": null,
   "metadata": {
    "scrolled": false
   },
   "outputs": [],
   "source": [
    "# 독립변수, 종속변수 상관계수 확인\n"
   ]
  },
  {
   "cell_type": "code",
   "execution_count": null,
   "metadata": {
    "executionInfo": {
     "elapsed": 18,
     "status": "ok",
     "timestamp": 1668725563408,
     "user": {
      "displayName": "jinyang park",
      "userId": "06576046992691541404"
     },
     "user_tz": -540
    },
    "id": "neoHu3sOzXjP"
   },
   "outputs": [],
   "source": [
    "# 모델선택, 독립변수(salary), 종속변수(expenditure) 입력, fit\n",
    "from statsmodels.formula.api import ols\n"
   ]
  },
  {
   "cell_type": "code",
   "execution_count": null,
   "metadata": {},
   "outputs": [],
   "source": [
    "# Attribute 확인\n"
   ]
  },
  {
   "cell_type": "code",
   "execution_count": null,
   "metadata": {
    "colab": {
     "base_uri": "https://localhost:8080/",
     "height": 478
    },
    "executionInfo": {
     "elapsed": 16,
     "status": "ok",
     "timestamp": 1668725563409,
     "user": {
      "displayName": "jinyang park",
      "userId": "06576046992691541404"
     },
     "user_tz": -540
    },
    "id": "UDwB3G7kCyRL",
    "outputId": "d72f7d78-3bbc-4483-93ef-a21d562937bb"
   },
   "outputs": [],
   "source": [
    "# 모델 summary 결정계수 / 회귀 계수(coef) 등 확인 \n"
   ]
  },
  {
   "cell_type": "markdown",
   "metadata": {},
   "source": [
    "## $$y= 0.9781 \\times x - 1246.9920$$"
   ]
  },
  {
   "cell_type": "code",
   "execution_count": null,
   "metadata": {},
   "outputs": [],
   "source": [
    "# model1_1 attributes (params, predict, resid 잔차)\n"
   ]
  },
  {
   "cell_type": "code",
   "execution_count": null,
   "metadata": {},
   "outputs": [],
   "source": [
    "# 회귀식\n"
   ]
  },
  {
   "cell_type": "code",
   "execution_count": null,
   "metadata": {},
   "outputs": [],
   "source": [
    "# sample data\n"
   ]
  },
  {
   "cell_type": "code",
   "execution_count": null,
   "metadata": {},
   "outputs": [],
   "source": [
    "# 회귀식으로 예측값 확인\n"
   ]
  },
  {
   "cell_type": "code",
   "execution_count": null,
   "metadata": {},
   "outputs": [],
   "source": [
    "# sample data\n"
   ]
  },
  {
   "cell_type": "code",
   "execution_count": null,
   "metadata": {
    "colab": {
     "base_uri": "https://localhost:8080/"
    },
    "executionInfo": {
     "elapsed": 13,
     "status": "ok",
     "timestamp": 1668725563410,
     "user": {
      "displayName": "jinyang park",
      "userId": "06576046992691541404"
     },
     "user_tz": -540
    },
    "id": "o_O8D4mvOGxB",
    "outputId": "7fa6d445-b47a-4774-c850-a602476ad980"
   },
   "outputs": [],
   "source": [
    "# predict로 예측값 확인\n"
   ]
  },
  {
   "cell_type": "code",
   "execution_count": null,
   "metadata": {
    "colab": {
     "base_uri": "https://localhost:8080/",
     "height": 297
    },
    "executionInfo": {
     "elapsed": 13,
     "status": "ok",
     "timestamp": 1668725563411,
     "user": {
      "displayName": "jinyang park",
      "userId": "06576046992691541404"
     },
     "user_tz": -540
    },
    "id": "yOu0_IsLU8Ix",
    "outputId": "a17180ac-b00a-4624-b7f9-7828babd8edb"
   },
   "outputs": [],
   "source": [
    "# 시각화 \n",
    "\n",
    "fig, ax = plt.subplots( nrows= 1 , ncols=2, figsize=(14, 5))\n",
    "sns.scatterplot(x=df['salary'], y=df['expenditure'], palette='Set1', ax= ax[0] )\n",
    "sns.scatterplot(x=df['salary'], y=predict1_1, palette='Set2', ax=ax[1] )\n",
    "\n",
    "ax[0].set_title('expenditure ')\n",
    "ax[1].set_title('predict1_1')\n",
    "plt.show()"
   ]
  },
  {
   "cell_type": "markdown",
   "metadata": {},
   "source": [
    "## 다중 회귀 가정 4가지 선형성, 정규성, 등분산, 독립성"
   ]
  },
  {
   "cell_type": "markdown",
   "metadata": {},
   "source": [
    "### 선형 회귀 가정 1: 선형성 \n",
    "\n",
    "F 검정의 pvalue로 확인"
   ]
  },
  {
   "cell_type": "code",
   "execution_count": null,
   "metadata": {
    "scrolled": false
   },
   "outputs": [],
   "source": [
    "# 선형회귀 그래프, regplot: scatter plot, regression line, confidence band를 한 번에 그리는 기능\n",
    "sns.regplot(x='salary', y='expenditure', data=df)\n",
    "sns.regplot(x=df['salary'], y=predict1_1)"
   ]
  },
  {
   "cell_type": "code",
   "execution_count": null,
   "metadata": {},
   "outputs": [],
   "source": [
    "# F 검정의 pvalue로 확인\n"
   ]
  },
  {
   "cell_type": "markdown",
   "metadata": {},
   "source": [
    "### 선형 회귀 가정 2: 잔차의 정규성\n",
    "\n",
    "<br>잔차 그래프로 확인\n",
    "<br>shapiro 의 경우 p값이 0.05 이상이면 정규성 만족한다 "
   ]
  },
  {
   "cell_type": "code",
   "execution_count": null,
   "metadata": {},
   "outputs": [],
   "source": [
    "# 잔차 계산\n"
   ]
  },
  {
   "cell_type": "code",
   "execution_count": null,
   "metadata": {},
   "outputs": [],
   "source": [
    "# 잔차 그래프 1\n",
    "plt.scatter(df['salary'], residual)\n",
    "plt.show()"
   ]
  },
  {
   "cell_type": "code",
   "execution_count": null,
   "metadata": {
    "scrolled": false
   },
   "outputs": [],
   "source": [
    "# 잔차 그래프 2\n",
    "sns.distplot(residual)\n",
    "plt.show()"
   ]
  },
  {
   "cell_type": "code",
   "execution_count": null,
   "metadata": {},
   "outputs": [],
   "source": [
    "# shapiro 정규성 검정, Ho: 정규성을 가진다 (p-value > 0.05)\n",
    "from scipy.stats import shapiro\n"
   ]
  },
  {
   "cell_type": "code",
   "execution_count": null,
   "metadata": {},
   "outputs": [],
   "source": [
    "# pvalue가 0.05보다 작으면 정규성 만족 못함\n"
   ]
  },
  {
   "cell_type": "code",
   "execution_count": null,
   "metadata": {},
   "outputs": [],
   "source": [
    "# residual이 그룹화 되어 있어 shapiro test에서 정규성이 안 나옴\n",
    "\n",
    "import scipy.stats as stats\n",
    "\n",
    "stats.probplot(residual, plot=plt)\n",
    "plt.show()"
   ]
  },
  {
   "cell_type": "markdown",
   "metadata": {},
   "source": [
    "## 선형 회귀 가정 3: 잔차의 등분산\n",
    "\n",
    "예측값과 잔차의 산점도로 파악"
   ]
  },
  {
   "cell_type": "code",
   "execution_count": null,
   "metadata": {},
   "outputs": [],
   "source": [
    "# 잔차그래프로 확인, X가 커질때 잔차의 간격이 변하면 안됨, 간격아 일정하면 등분산성 만족\n",
    "sns.regplot(x=predict1_1, y=residual)"
   ]
  },
  {
   "cell_type": "markdown",
   "metadata": {},
   "source": [
    "## 선형 회귀 가정 4: 잔차의 독립성\n",
    "잔차가 독립인지(자기상관성이 있는지) 검정"
   ]
  },
  {
   "cell_type": "code",
   "execution_count": null,
   "metadata": {},
   "outputs": [],
   "source": [
    "#perform Durbin-Watson test\n",
    "\n",
    "from statsmodels.stats.stattools import durbin_watson\n",
    "durbin_watson(model1_1.resid)\n",
    "\n",
    "# 더빈 왓슨 통계량은 0 ~ 4사이의 값을 갖을 수 있음\n",
    "# 0에 가까울수록 → 양의 상관관계\n",
    "# 4에 가까울수록 → 음의 상관관계\n",
    "# 2에 가까울수록 → 오차항의 자기상관이 없음"
   ]
  },
  {
   "cell_type": "markdown",
   "metadata": {
    "id": "5YwW9JcI1BcB"
   },
   "source": [
    "## 1-2. 단일 회귀 sklearn.linear_model\n",
    "\n",
    "연봉으로 지출액을 예측할 수 있을까 ?"
   ]
  },
  {
   "cell_type": "code",
   "execution_count": null,
   "metadata": {
    "executionInfo": {
     "elapsed": 414,
     "status": "ok",
     "timestamp": 1668725563815,
     "user": {
      "displayName": "jinyang park",
      "userId": "06576046992691541404"
     },
     "user_tz": -540
    },
    "id": "4k07iKJxSLxO"
   },
   "outputs": [],
   "source": [
    "# LinearRegression 호출\n",
    "from sklearn.linear_model import LinearRegression"
   ]
  },
  {
   "cell_type": "code",
   "execution_count": null,
   "metadata": {
    "colab": {
     "base_uri": "https://localhost:8080/"
    },
    "executionInfo": {
     "elapsed": 16,
     "status": "ok",
     "timestamp": 1668725563815,
     "user": {
      "displayName": "jinyang park",
      "userId": "06576046992691541404"
     },
     "user_tz": -540
    },
    "id": "YZcxocXs0cid",
    "outputId": "bf2acc92-40d2-4340-de1d-416da5bd064b"
   },
   "outputs": [],
   "source": [
    "# 모델선택, 독립변수(salary), 종속변수(expenditure) 입력, fit \n"
   ]
  },
  {
   "cell_type": "code",
   "execution_count": null,
   "metadata": {
    "colab": {
     "base_uri": "https://localhost:8080/"
    },
    "executionInfo": {
     "elapsed": 16,
     "status": "ok",
     "timestamp": 1668725563816,
     "user": {
      "displayName": "jinyang park",
      "userId": "06576046992691541404"
     },
     "user_tz": -540
    },
    "id": "uXLrtfOd2api",
    "outputId": "fabc4aba-ceb0-4084-a7b9-18e1da99978a"
   },
   "outputs": [],
   "source": [
    "# 회귀계수 확인\n"
   ]
  },
  {
   "cell_type": "code",
   "execution_count": null,
   "metadata": {
    "colab": {
     "base_uri": "https://localhost:8080/"
    },
    "executionInfo": {
     "elapsed": 15,
     "status": "ok",
     "timestamp": 1668725563817,
     "user": {
      "displayName": "jinyang park",
      "userId": "06576046992691541404"
     },
     "user_tz": -540
    },
    "id": "U7bJWMjX4d89",
    "outputId": "364f40c0-7f47-4b94-aedd-94f53fe84574"
   },
   "outputs": [],
   "source": [
    "# intercept_ 확인\n"
   ]
  },
  {
   "cell_type": "markdown",
   "metadata": {},
   "source": [
    "## $$y= 0.97813 \\times x - 1246.9920$$"
   ]
  },
  {
   "cell_type": "code",
   "execution_count": null,
   "metadata": {
    "colab": {
     "base_uri": "https://localhost:8080/"
    },
    "executionInfo": {
     "elapsed": 13,
     "status": "ok",
     "timestamp": 1668725563817,
     "user": {
      "displayName": "jinyang park",
      "userId": "06576046992691541404"
     },
     "user_tz": -540
    },
    "id": "8O6_4ujj3TcC",
    "outputId": "2301dda2-27fb-43f4-be63-b996be4cd07a"
   },
   "outputs": [],
   "source": [
    "# 회귀식\n",
    "def liner1_2(x):\n",
    "    return (model1_2.coef_[0] * x) + model1_2.intercept_"
   ]
  },
  {
   "cell_type": "code",
   "execution_count": null,
   "metadata": {},
   "outputs": [],
   "source": [
    "# sample data\n"
   ]
  },
  {
   "cell_type": "code",
   "execution_count": null,
   "metadata": {},
   "outputs": [],
   "source": [
    "# 회귀식으로 예측\n"
   ]
  },
  {
   "cell_type": "code",
   "execution_count": null,
   "metadata": {
    "colab": {
     "base_uri": "https://localhost:8080/"
    },
    "executionInfo": {
     "elapsed": 11,
     "status": "ok",
     "timestamp": 1668725563818,
     "user": {
      "displayName": "jinyang park",
      "userId": "06576046992691541404"
     },
     "user_tz": -540
    },
    "id": "5bqynxLp2rHl",
    "outputId": "f3b36c7d-9f44-4b69-daea-7bd1aa1b28da"
   },
   "outputs": [],
   "source": [
    "# predict로 예측\n"
   ]
  },
  {
   "cell_type": "code",
   "execution_count": null,
   "metadata": {
    "colab": {
     "base_uri": "https://localhost:8080/",
     "height": 297
    },
    "executionInfo": {
     "elapsed": 991,
     "status": "ok",
     "timestamp": 1668725564801,
     "user": {
      "displayName": "jinyang park",
      "userId": "06576046992691541404"
     },
     "user_tz": -540
    },
    "id": "B75eB3OP2uUr",
    "outputId": "089c588a-fd0e-4319-ceee-a6710ce26841"
   },
   "outputs": [],
   "source": [
    "# 선형회귀 그래프\n",
    "sns.regplot(x=df['salary'], y=predict1_2)"
   ]
  },
  {
   "cell_type": "markdown",
   "metadata": {},
   "source": [
    "## statemodels vs. sklearn 비교 \n",
    " - statemodels는 통계기반 강점, summary 표등 통계자료 보기 편함 \n",
    " - sklearn는 머신러닝 관점\n",
    " - 입력값의 차이( statemodels ols의 경우 formula 문법이 있음 / sklearn는 fit() 활용) "
   ]
  },
  {
   "cell_type": "code",
   "execution_count": null,
   "metadata": {},
   "outputs": [],
   "source": [
    "# statemodels vs. sklearn 제공 기능 비교\n",
    "\n",
    "# model1_1.   # 통계 중심\n",
    "# model1_2.   # 머신러닝 중심"
   ]
  },
  {
   "cell_type": "markdown",
   "metadata": {
    "id": "0DC3DnJKED-q"
   },
   "source": [
    "## 1-3. 단일 회귀 train_test_split / statemodels - ols()\n",
    "\n",
    "train, test data 분할 (train_size= 0.7, random_state=123)\n",
    "<br> 연봉으로 지출액을 예측할 수 있을까 ?"
   ]
  },
  {
   "cell_type": "code",
   "execution_count": null,
   "metadata": {
    "colab": {
     "base_uri": "https://localhost:8080/"
    },
    "executionInfo": {
     "elapsed": 23,
     "status": "ok",
     "timestamp": 1668725564802,
     "user": {
      "displayName": "jinyang park",
      "userId": "06576046992691541404"
     },
     "user_tz": -540
    },
    "id": "7Aq25y_2C1SX",
    "outputId": "862a0777-6a64-4c3f-f01c-64ad83b48a71"
   },
   "outputs": [],
   "source": [
    "# train_test_split (train_size= 0.7, random_state=123)\n",
    "from sklearn.model_selection import train_test_split\n",
    "\n",
    "# print('데이터셋 총합 :', len(df), ', df_train :', len(df_train1), ', df_test :', len(df_test1))\n"
   ]
  },
  {
   "cell_type": "code",
   "execution_count": null,
   "metadata": {
    "executionInfo": {
     "elapsed": 21,
     "status": "ok",
     "timestamp": 1668725564804,
     "user": {
      "displayName": "jinyang park",
      "userId": "06576046992691541404"
     },
     "user_tz": -540
    },
    "id": "DazBzkg2F5Xz"
   },
   "outputs": [],
   "source": [
    "# ols 모델링, fit\n",
    "from statsmodels.formula.api import ols\n"
   ]
  },
  {
   "cell_type": "code",
   "execution_count": null,
   "metadata": {
    "colab": {
     "base_uri": "https://localhost:8080/",
     "height": 478
    },
    "executionInfo": {
     "elapsed": 21,
     "status": "ok",
     "timestamp": 1668725564804,
     "user": {
      "displayName": "jinyang park",
      "userId": "06576046992691541404"
     },
     "user_tz": -540
    },
    "id": "Z6DoLVq6GKrs",
    "outputId": "2a1d9e56-c6d9-4bd1-ba59-463f010ec450",
    "scrolled": false
   },
   "outputs": [],
   "source": [
    "# summary, 회귀계수 확인\n"
   ]
  },
  {
   "cell_type": "markdown",
   "metadata": {},
   "source": [
    "## $$y= 0.9799 \\times x - 1278.0961$$"
   ]
  },
  {
   "cell_type": "code",
   "execution_count": null,
   "metadata": {},
   "outputs": [],
   "source": [
    "# model1_3 과 model1_1.summary()와 비교, coef_, R-squared, train data set이 바뀌었음\n"
   ]
  },
  {
   "cell_type": "code",
   "execution_count": null,
   "metadata": {
    "colab": {
     "base_uri": "https://localhost:8080/"
    },
    "executionInfo": {
     "elapsed": 21,
     "status": "ok",
     "timestamp": 1668725564805,
     "user": {
      "displayName": "jinyang park",
      "userId": "06576046992691541404"
     },
     "user_tz": -540
    },
    "id": "B5MrMyDZIwi4",
    "outputId": "c4bb49ae-6924-40ce-d05c-7850de6cb1a8"
   },
   "outputs": [],
   "source": [
    "# 회귀식 y = 0.9799 * salary - 1278.0961\n",
    "\n",
    "0.9799 * ? - 1278.0961\n",
    "0.9799 * ? - 1278.0961"
   ]
  },
  {
   "cell_type": "code",
   "execution_count": null,
   "metadata": {
    "colab": {
     "base_uri": "https://localhost:8080/"
    },
    "executionInfo": {
     "elapsed": 19,
     "status": "ok",
     "timestamp": 1668725564805,
     "user": {
      "displayName": "jinyang park",
      "userId": "06576046992691541404"
     },
     "user_tz": -540
    },
    "id": "H54b9G76GOEd",
    "outputId": "db25a4e7-d634-4bbe-80bb-78810c6606d2"
   },
   "outputs": [],
   "source": [
    "# predict로 예측\n"
   ]
  },
  {
   "cell_type": "markdown",
   "metadata": {
    "id": "7OEylfG6Ou24"
   },
   "source": [
    "## 1-4. $\\pi$(파이) Quiz 단일회귀 train_test_split / statemodels - ols() \n",
    "\n",
    "\n",
    "<br>나이로 연봉을 예측할 수 있을까 ? \n",
    "<br>독립변수: 나이(age)\n",
    "<br>종속변수: 연봉(salary)\n",
    "\n",
    "<br>1. train, test data 분할하시오(train_size= 0.7, random_state=123)\n",
    "<br>2. 회귀식을 수립하시오\n",
    "<br>3. 37세의 연봉을 예측하시오"
   ]
  },
  {
   "cell_type": "code",
   "execution_count": null,
   "metadata": {},
   "outputs": [],
   "source": [
    "# train_test_split (train_size= 0.7, random_state=123)\n",
    "df_train1, df_test1 = train_test_split(df, train_size= 0.7, random_state=123)"
   ]
  },
  {
   "cell_type": "code",
   "execution_count": null,
   "metadata": {
    "executionInfo": {
     "elapsed": 23,
     "status": "ok",
     "timestamp": 1668725565528,
     "user": {
      "displayName": "jinyang park",
      "userId": "06576046992691541404"
     },
     "user_tz": -540
    },
    "id": "06RsHdggOuGJ"
   },
   "outputs": [],
   "source": [
    "# ols모델링, fit\n",
    "from statsmodels.formula.api import ols\n"
   ]
  },
  {
   "cell_type": "code",
   "execution_count": null,
   "metadata": {
    "colab": {
     "base_uri": "https://localhost:8080/",
     "height": 444
    },
    "executionInfo": {
     "elapsed": 24,
     "status": "ok",
     "timestamp": 1668725565529,
     "user": {
      "displayName": "jinyang park",
      "userId": "06576046992691541404"
     },
     "user_tz": -540
    },
    "id": "sQPFFOT2PBnT",
    "outputId": "01ae587c-0df9-4274-b27f-5efbc5838e94"
   },
   "outputs": [],
   "source": [
    "# summary, 회귀계수 확인\n"
   ]
  },
  {
   "cell_type": "markdown",
   "metadata": {},
   "source": [
    "## $$y= 115.2576 \\times x + 1821.4088$$"
   ]
  },
  {
   "cell_type": "code",
   "execution_count": null,
   "metadata": {
    "colab": {
     "base_uri": "https://localhost:8080/"
    },
    "executionInfo": {
     "elapsed": 24,
     "status": "ok",
     "timestamp": 1668725565531,
     "user": {
      "displayName": "jinyang park",
      "userId": "06576046992691541404"
     },
     "user_tz": -540
    },
    "id": "dwZPPq6ov53q",
    "outputId": "889f8e42-1c22-4728-8594-928f66098d11"
   },
   "outputs": [],
   "source": [
    "# 회귀식으로 예측 y = 115.2576 * age + 1821.4088\n",
    "115.2576 * ? + 1821.4088\n",
    "115.2576 * ? + 1821.4088"
   ]
  },
  {
   "cell_type": "code",
   "execution_count": null,
   "metadata": {},
   "outputs": [],
   "source": [
    "# predict 개별값 입력으로 예측\n"
   ]
  },
  {
   "cell_type": "code",
   "execution_count": null,
   "metadata": {
    "colab": {
     "base_uri": "https://localhost:8080/"
    },
    "executionInfo": {
     "elapsed": 22,
     "status": "ok",
     "timestamp": 1668725565531,
     "user": {
      "displayName": "jinyang park",
      "userId": "06576046992691541404"
     },
     "user_tz": -540
    },
    "id": "zGSmLaTGPIFV",
    "outputId": "f5341a96-ad71-4dd4-f492-33757d139c27",
    "scrolled": false
   },
   "outputs": [],
   "source": [
    "# predict 전체값 예측\n"
   ]
  },
  {
   "cell_type": "code",
   "execution_count": null,
   "metadata": {
    "colab": {
     "base_uri": "https://localhost:8080/",
     "height": 297
    },
    "executionInfo": {
     "elapsed": 22,
     "status": "ok",
     "timestamp": 1668725565532,
     "user": {
      "displayName": "jinyang park",
      "userId": "06576046992691541404"
     },
     "user_tz": -540
    },
    "id": "456rLcLKPYVL",
    "outputId": "54acd037-d25e-453f-92a1-980521f04a4a"
   },
   "outputs": [],
   "source": [
    "# 선형회귀 그래프\n",
    "sns.regplot(x='age', y='salary', data=df_test1)"
   ]
  },
  {
   "cell_type": "markdown",
   "metadata": {
    "id": "z4IpIXV-edh3"
   },
   "source": [
    "## 1-5.  $\\pi$(파이) Quiz 단일회귀 train_test_split /  sklearn.linear_model\n",
    "\n",
    "\n",
    "<br>나이로 연봉을 예측할 수 있을까 ?  \n",
    "<br>독립변수: 나이(age)\n",
    "<br>종속변수: 연봉(salary)\n",
    "\n",
    "train, test data 분할하고 37세의 연봉을 예측하시오"
   ]
  },
  {
   "cell_type": "code",
   "execution_count": null,
   "metadata": {},
   "outputs": [],
   "source": [
    "# train_test_split (train_size= 0.7, random_state=123)\n",
    "df_train1, df_test1 = train_test_split(df, train_size= 0.7, random_state=123)"
   ]
  },
  {
   "cell_type": "code",
   "execution_count": null,
   "metadata": {
    "colab": {
     "base_uri": "https://localhost:8080/"
    },
    "executionInfo": {
     "elapsed": 21,
     "status": "ok",
     "timestamp": 1668725565533,
     "user": {
      "displayName": "jinyang park",
      "userId": "06576046992691541404"
     },
     "user_tz": -540
    },
    "id": "yUUqgIWT59ui",
    "outputId": "82854b4a-711b-4ed8-dfb1-d5e02f7f3700"
   },
   "outputs": [],
   "source": [
    "# LinearRegression, fit, predict\n",
    "from sklearn.linear_model import LinearRegression\n"
   ]
  },
  {
   "cell_type": "markdown",
   "metadata": {},
   "source": [
    "## 1-6. 단일회귀 train_test_split /  statsmodels.api "
   ]
  },
  {
   "cell_type": "code",
   "execution_count": null,
   "metadata": {},
   "outputs": [],
   "source": [
    "# statsmodels.api\n",
    "import statsmodels.api as sm\n",
    "\n",
    "# train, fit\n"
   ]
  },
  {
   "cell_type": "code",
   "execution_count": null,
   "metadata": {
    "scrolled": true
   },
   "outputs": [],
   "source": [
    "# predict\n"
   ]
  },
  {
   "cell_type": "code",
   "execution_count": null,
   "metadata": {},
   "outputs": [],
   "source": [
    "# summary()\n"
   ]
  },
  {
   "cell_type": "markdown",
   "metadata": {
    "id": "vhWiJegbvSiL"
   },
   "source": [
    "## 2-1. 다중회귀 statemodels -ols()\n",
    "\n",
    "연봉과 나이로 지출액을 예측할 수 있을까\n",
    "<br> train, test data 분할\n",
    "<br> 종속변수 : 지출액 (expenditure)\n",
    "<br> 독립변수 : 연봉과 나이 (age , salary)"
   ]
  },
  {
   "cell_type": "code",
   "execution_count": null,
   "metadata": {
    "executionInfo": {
     "elapsed": 19,
     "status": "ok",
     "timestamp": 1668725565533,
     "user": {
      "displayName": "jinyang park",
      "userId": "06576046992691541404"
     },
     "user_tz": -540
    },
    "id": "vup2bppnw1t4"
   },
   "outputs": [],
   "source": [
    "# ols 다중회귀 모델링, fit\n",
    "from sklearn.linear_model import LinearRegression\n"
   ]
  },
  {
   "cell_type": "code",
   "execution_count": null,
   "metadata": {
    "colab": {
     "base_uri": "https://localhost:8080/",
     "height": 499
    },
    "executionInfo": {
     "elapsed": 20,
     "status": "ok",
     "timestamp": 1668725565534,
     "user": {
      "displayName": "jinyang park",
      "userId": "06576046992691541404"
     },
     "user_tz": -540
    },
    "id": "I2xntcepw8Vl",
    "outputId": "196963f5-f31f-4a71-cdfd-5bf4306e3ec0"
   },
   "outputs": [],
   "source": [
    "# summary\n"
   ]
  },
  {
   "cell_type": "code",
   "execution_count": null,
   "metadata": {
    "scrolled": true
   },
   "outputs": [],
   "source": [
    "# attribute 확인\n"
   ]
  },
  {
   "cell_type": "markdown",
   "metadata": {},
   "source": [
    "## $$y= 14.9256 \\times x_1  + 0.9436 \\times x_2 - 1633.1811$$"
   ]
  },
  {
   "cell_type": "code",
   "execution_count": null,
   "metadata": {},
   "outputs": [],
   "source": [
    "df_test1.head(1)"
   ]
  },
  {
   "cell_type": "code",
   "execution_count": null,
   "metadata": {
    "colab": {
     "base_uri": "https://localhost:8080/"
    },
    "executionInfo": {
     "elapsed": 18,
     "status": "ok",
     "timestamp": 1668725565534,
     "user": {
      "displayName": "jinyang park",
      "userId": "06576046992691541404"
     },
     "user_tz": -540
    },
    "id": "P59qiehpxkgn",
    "outputId": "30ab898b-05e3-483a-ad68-0ffb9b4c020c"
   },
   "outputs": [],
   "source": [
    "# 회귀식, hkd213에 대입 나이 30 / 연봉 7520\n",
    "14.9256 * ? + 0.9436 * ? - 1633.1811"
   ]
  },
  {
   "cell_type": "code",
   "execution_count": null,
   "metadata": {
    "colab": {
     "base_uri": "https://localhost:8080/"
    },
    "executionInfo": {
     "elapsed": 18,
     "status": "ok",
     "timestamp": 1668725565535,
     "user": {
      "displayName": "jinyang park",
      "userId": "06576046992691541404"
     },
     "user_tz": -540
    },
    "id": "tbfxGRrqyUZ9",
    "outputId": "d9dd245e-2e55-4f08-c2bf-c15b3753baf1",
    "scrolled": false
   },
   "outputs": [],
   "source": [
    "# predict 예측\n"
   ]
  },
  {
   "cell_type": "code",
   "execution_count": null,
   "metadata": {},
   "outputs": [],
   "source": [
    "# attribute로 확인\n"
   ]
  },
  {
   "cell_type": "code",
   "execution_count": null,
   "metadata": {},
   "outputs": [],
   "source": [
    "# 회귀식에 attribute값 대입, (나이 30 / 연봉 7520)\n"
   ]
  },
  {
   "cell_type": "markdown",
   "metadata": {
    "id": "rttRLvNIl51S"
   },
   "source": [
    "## 다중회귀 2-2 sklearn.linear_model \n",
    "\n",
    "<br> 연봉과 지출액으로 나이를 예측할 수 있을까\n",
    "<br> train, test data 분할\n",
    "<br> 독립변수: salary, expenditure\n",
    "<br> 종속변수: age"
   ]
  },
  {
   "cell_type": "code",
   "execution_count": null,
   "metadata": {
    "colab": {
     "base_uri": "https://localhost:8080/"
    },
    "executionInfo": {
     "elapsed": 16,
     "status": "ok",
     "timestamp": 1668725568264,
     "user": {
      "displayName": "jinyang park",
      "userId": "06576046992691541404"
     },
     "user_tz": -540
    },
    "id": "9ZCO7MCtfvpR",
    "outputId": "7b45671d-2488-485d-b6fa-27cad390fca1"
   },
   "outputs": [],
   "source": [
    "# LinearRegression, fit, predict\n",
    "from sklearn.linear_model import LinearRegression\n"
   ]
  },
  {
   "cell_type": "code",
   "execution_count": null,
   "metadata": {},
   "outputs": [],
   "source": [
    "# intercept_, coef_확인\n"
   ]
  },
  {
   "cell_type": "code",
   "execution_count": null,
   "metadata": {},
   "outputs": [],
   "source": [
    "# 변수별 회귀계수 확인하는 데이터프레임\n"
   ]
  },
  {
   "cell_type": "markdown",
   "metadata": {
    "id": "X7ZNaAeiw8e1"
   },
   "source": [
    "## 2-3 선형회귀 모형 명목형 변수의 처리\n",
    "get_dummy ('gender', 'blood_type', 'company', 'grades')"
   ]
  },
  {
   "cell_type": "code",
   "execution_count": null,
   "metadata": {},
   "outputs": [],
   "source": [
    "# 해당 column만 get_dummies\n"
   ]
  },
  {
   "cell_type": "code",
   "execution_count": null,
   "metadata": {
    "colab": {
     "base_uri": "https://localhost:8080/",
     "height": 424
    },
    "executionInfo": {
     "elapsed": 27,
     "status": "ok",
     "timestamp": 1668725570534,
     "user": {
      "displayName": "jinyang park",
      "userId": "06576046992691541404"
     },
     "user_tz": -540
    },
    "id": "ua39Eo6Mz_5U",
    "outputId": "47598736-f556-4b08-96f0-e23d9d6283e8"
   },
   "outputs": [],
   "source": [
    "# 전체 column + 해당 column, 원본 column은 삭제됨\n"
   ]
  },
  {
   "cell_type": "markdown",
   "metadata": {
    "id": "LrwKIIBM3AuA"
   },
   "source": [
    "## 2-4 다중회귀 sklearn.linear_model \n",
    "\n",
    "회사와(company, 범주형) 연봉(salary, 연속형)으로 지출액(expenditure)을 예측할 수 있을까 ?"
   ]
  },
  {
   "cell_type": "code",
   "execution_count": null,
   "metadata": {
    "colab": {
     "base_uri": "https://localhost:8080/"
    },
    "executionInfo": {
     "elapsed": 27,
     "status": "ok",
     "timestamp": 1668725570534,
     "user": {
      "displayName": "jinyang park",
      "userId": "06576046992691541404"
     },
     "user_tz": -540
    },
    "id": "N57h1tMG3WpE",
    "outputId": "edfb9234-bc9e-4fdf-f390-b24a59e8e985"
   },
   "outputs": [],
   "source": [
    "# LinearRegression, fit, predict\n",
    "from sklearn.linear_model import LinearRegression\n"
   ]
  },
  {
   "cell_type": "code",
   "execution_count": null,
   "metadata": {},
   "outputs": [],
   "source": [
    "# attribute 확인(coef, intercept)\n"
   ]
  },
  {
   "cell_type": "code",
   "execution_count": null,
   "metadata": {},
   "outputs": [],
   "source": [
    "# feature, coef DataFrame화\n"
   ]
  },
  {
   "cell_type": "markdown",
   "metadata": {},
   "source": [
    "## $$y= -30.55 \\times x_1  + 177.91 \\times x_2 -147.36 \\times x_3 + 1.01 \\times x_4 - 1503.1087$$"
   ]
  },
  {
   "cell_type": "markdown",
   "metadata": {
    "id": "JpMOZEbbpdH6"
   },
   "source": [
    "## 3-1 선형회귀 모델의 평가\n",
    "\n",
    "MSE, RMSE, MAE, RMAE"
   ]
  },
  {
   "cell_type": "code",
   "execution_count": null,
   "metadata": {
    "colab": {
     "base_uri": "https://localhost:8080/"
    },
    "executionInfo": {
     "elapsed": 3,
     "status": "ok",
     "timestamp": 1668725822482,
     "user": {
      "displayName": "jinyang park",
      "userId": "06576046992691541404"
     },
     "user_tz": -540
    },
    "id": "4878AZ8tjHdv",
    "outputId": "3fec5287-492c-4c7f-d207-c0676a2d2547"
   },
   "outputs": [],
   "source": [
    "# df_train1, df_test1\n"
   ]
  },
  {
   "cell_type": "code",
   "execution_count": null,
   "metadata": {
    "colab": {
     "base_uri": "https://localhost:8080/",
     "height": 297
    },
    "executionInfo": {
     "elapsed": 507,
     "status": "ok",
     "timestamp": 1668725826089,
     "user": {
      "displayName": "jinyang park",
      "userId": "06576046992691541404"
     },
     "user_tz": -540
    },
    "id": "yJ18tV7WjLbg",
    "outputId": "10a0d895-0e7c-450a-8d5b-60bb1aa66515"
   },
   "outputs": [],
   "source": [
    "# 평가를 위한 시각화 (x='salary', y='expenditure')\n",
    "sns.regplot(x='salary', y='expenditure', data=df_train1) # 평가는 회귀식과 실제값이 잘 맞는가"
   ]
  },
  {
   "cell_type": "code",
   "execution_count": null,
   "metadata": {
    "colab": {
     "base_uri": "https://localhost:8080/",
     "height": 297
    },
    "executionInfo": {
     "elapsed": 6,
     "status": "ok",
     "timestamp": 1668725828888,
     "user": {
      "displayName": "jinyang park",
      "userId": "06576046992691541404"
     },
     "user_tz": -540
    },
    "id": "jfbIO5NzRw_A",
    "outputId": "bb845ea5-4017-4f2a-c883-6489e656d0b7"
   },
   "outputs": [],
   "source": [
    "# 평가를 위한 시각화 (x='age', y='expenditure')\n",
    "sns.regplot(x='age', y='expenditure', data=df_train1)  # 그래프로 보면 age가 불리해 보임"
   ]
  },
  {
   "cell_type": "code",
   "execution_count": null,
   "metadata": {
    "executionInfo": {
     "elapsed": 12,
     "status": "ok",
     "timestamp": 1668725830493,
     "user": {
      "displayName": "jinyang park",
      "userId": "06576046992691541404"
     },
     "user_tz": -540
    },
    "id": "AFgQ86LYlAJJ"
   },
   "outputs": [],
   "source": [
    "# LinearRegression (salary, expenditure)\n",
    "from sklearn.linear_model import LinearRegression\n"
   ]
  },
  {
   "cell_type": "code",
   "execution_count": null,
   "metadata": {
    "executionInfo": {
     "elapsed": 4,
     "status": "ok",
     "timestamp": 1668725828888,
     "user": {
      "displayName": "jinyang park",
      "userId": "06576046992691541404"
     },
     "user_tz": -540
    },
    "id": "AQmSKSkIRynv"
   },
   "outputs": [],
   "source": [
    "# LinearRegression (age, expenditure)\n",
    "from sklearn.linear_model import LinearRegression\n"
   ]
  },
  {
   "cell_type": "code",
   "execution_count": null,
   "metadata": {
    "colab": {
     "base_uri": "https://localhost:8080/",
     "height": 283
    },
    "executionInfo": {
     "elapsed": 12,
     "status": "ok",
     "timestamp": 1668725830494,
     "user": {
      "displayName": "jinyang park",
      "userId": "06576046992691541404"
     },
     "user_tz": -540
    },
    "id": "UN67ufHKnmPX",
    "outputId": "ebecd63b-eaf4-4d61-d80b-9650b85f0507"
   },
   "outputs": [],
   "source": [
    "# predict_salary 시각화\n",
    "sns.regplot(x=predict_salary, y=df_test1['expenditure'])"
   ]
  },
  {
   "cell_type": "code",
   "execution_count": null,
   "metadata": {
    "colab": {
     "base_uri": "https://localhost:8080/",
     "height": 283
    },
    "executionInfo": {
     "elapsed": 10,
     "status": "ok",
     "timestamp": 1668725830494,
     "user": {
      "displayName": "jinyang park",
      "userId": "06576046992691541404"
     },
     "user_tz": -540
    },
    "id": "v1jL180ilmdj",
    "outputId": "b1b1e32c-210b-46ca-9769-f0f7cfdbed62"
   },
   "outputs": [],
   "source": [
    "# predict_age 시각화\n",
    "sns.regplot(x=predict_age, y=df_test1['expenditure'])"
   ]
  },
  {
   "cell_type": "code",
   "execution_count": null,
   "metadata": {
    "executionInfo": {
     "elapsed": 8,
     "status": "ok",
     "timestamp": 1668725830495,
     "user": {
      "displayName": "jinyang park",
      "userId": "06576046992691541404"
     },
     "user_tz": -540
    },
    "id": "-oR-V-N0oET7"
   },
   "outputs": [],
   "source": [
    "# LinearRegression 평가를 위한 class\n",
    "from sklearn.metrics import mean_absolute_error, mean_squared_error"
   ]
  },
  {
   "cell_type": "markdown",
   "metadata": {},
   "source": [
    "### Mean Absolute Error(MAE) : $$\\frac{1}{N}\\sum_{i=1}^{n}|x_i-y_i|$$"
   ]
  },
  {
   "cell_type": "code",
   "execution_count": null,
   "metadata": {},
   "outputs": [],
   "source": [
    "# Mean Absolute Error(MAE) 계산식\n"
   ]
  },
  {
   "cell_type": "code",
   "execution_count": null,
   "metadata": {
    "colab": {
     "base_uri": "https://localhost:8080/"
    },
    "executionInfo": {
     "elapsed": 3,
     "status": "ok",
     "timestamp": 1668725831222,
     "user": {
      "displayName": "jinyang park",
      "userId": "06576046992691541404"
     },
     "user_tz": -540
    },
    "id": "3LKR1LRio2n6",
    "outputId": "d2147d54-7316-4801-8754-d2dc2170edf9"
   },
   "outputs": [],
   "source": [
    "# mean_absolute_error class 활용 (predict_salary)\n"
   ]
  },
  {
   "cell_type": "code",
   "execution_count": null,
   "metadata": {
    "colab": {
     "base_uri": "https://localhost:8080/"
    },
    "executionInfo": {
     "elapsed": 2,
     "status": "ok",
     "timestamp": 1668725834009,
     "user": {
      "displayName": "jinyang park",
      "userId": "06576046992691541404"
     },
     "user_tz": -540
    },
    "id": "UpG5cy42pQoS",
    "outputId": "87620638-f69c-4091-df1c-7045ee2c9ca7"
   },
   "outputs": [],
   "source": [
    "# mean_absolute_error class 활용 (predict_age)\n"
   ]
  },
  {
   "cell_type": "markdown",
   "metadata": {},
   "source": [
    "### Mean Squared Error(MSE): $$\\frac{1}{N}\\sum_{i=1}^{n}(x_i-y_i)^2$$"
   ]
  },
  {
   "cell_type": "code",
   "execution_count": null,
   "metadata": {},
   "outputs": [],
   "source": [
    "# Mean Squared Error(MSE) 계산식\n"
   ]
  },
  {
   "cell_type": "code",
   "execution_count": null,
   "metadata": {
    "colab": {
     "base_uri": "https://localhost:8080/"
    },
    "executionInfo": {
     "elapsed": 5,
     "status": "ok",
     "timestamp": 1668725836887,
     "user": {
      "displayName": "jinyang park",
      "userId": "06576046992691541404"
     },
     "user_tz": -540
    },
    "id": "MZ1dGOxupB-J",
    "outputId": "558bd952-3816-4c02-aa6c-a4b8c78737dc"
   },
   "outputs": [],
   "source": [
    "# mean_squared_error  class 활용 (predict_salary)\n"
   ]
  },
  {
   "cell_type": "code",
   "execution_count": null,
   "metadata": {
    "colab": {
     "base_uri": "https://localhost:8080/"
    },
    "executionInfo": {
     "elapsed": 5,
     "status": "ok",
     "timestamp": 1668725836888,
     "user": {
      "displayName": "jinyang park",
      "userId": "06576046992691541404"
     },
     "user_tz": -540
    },
    "id": "7flLkBbDpaYX",
    "outputId": "8d711e7f-3513-40d6-a8ed-829c126d446f"
   },
   "outputs": [],
   "source": [
    "# mean_squared_error  class 활용 (predict_age)\n"
   ]
  },
  {
   "cell_type": "markdown",
   "metadata": {},
   "source": [
    "### Root Mean Squared Error(RMSE):\n",
    "$$\\sqrt{\\frac{1}{N}\\sum_{i=1}^{n}(x_i-y_i)^2 }$$"
   ]
  },
  {
   "cell_type": "code",
   "execution_count": null,
   "metadata": {},
   "outputs": [],
   "source": [
    "# Root Mean Squared Error(RMSE) 계산식\n"
   ]
  },
  {
   "cell_type": "code",
   "execution_count": null,
   "metadata": {
    "colab": {
     "base_uri": "https://localhost:8080/"
    },
    "executionInfo": {
     "elapsed": 2,
     "status": "ok",
     "timestamp": 1668725838067,
     "user": {
      "displayName": "jinyang park",
      "userId": "06576046992691541404"
     },
     "user_tz": -540
    },
    "id": "aaedtJljVUon",
    "outputId": "530e2350-8443-45e0-f414-ff67de42c1ca"
   },
   "outputs": [],
   "source": [
    "# RMSE (mean_squared_error 활용) (predict_salary)\n"
   ]
  },
  {
   "cell_type": "code",
   "execution_count": null,
   "metadata": {},
   "outputs": [],
   "source": [
    "# RMSE (mean_squared_error 활용) (predict_age)\n"
   ]
  },
  {
   "cell_type": "markdown",
   "metadata": {},
   "source": [
    "## 3-2 정규화, 표준화 "
   ]
  },
  {
   "cell_type": "markdown",
   "metadata": {},
   "source": [
    "표준화 : min-max 단위를 고르게 하기 위하여 모든 값을 0~1사이로 바꾸는 것 \n",
    "<br> sklearn.preprocessing / MinMaxScaler 활용"
   ]
  },
  {
   "cell_type": "markdown",
   "metadata": {},
   "source": [
    "$$Y = \\frac{( X - X_{min} )}{( X_{max} - X_{min} )} $$"
   ]
  },
  {
   "cell_type": "code",
   "execution_count": null,
   "metadata": {},
   "outputs": [],
   "source": [
    "# MinMaxScaler class\n",
    "from sklearn.preprocessing import MinMaxScaler"
   ]
  },
  {
   "cell_type": "code",
   "execution_count": null,
   "metadata": {},
   "outputs": [],
   "source": [
    "# 대상변수 선택 (수치형) 'height', 'age', 'salary', 'expenditure'\n"
   ]
  },
  {
   "cell_type": "code",
   "execution_count": null,
   "metadata": {},
   "outputs": [],
   "source": [
    "# MinMaxScaler 모델링\n"
   ]
  },
  {
   "cell_type": "code",
   "execution_count": null,
   "metadata": {
    "scrolled": true
   },
   "outputs": [],
   "source": [
    "# MinMaxScaler fit, transform\n"
   ]
  },
  {
   "cell_type": "code",
   "execution_count": null,
   "metadata": {},
   "outputs": [],
   "source": [
    "# 시각화 \n",
    "\n",
    "fig, ax = plt.subplots( nrows= 1 , ncols=2, figsize=(14, 5))\n",
    "\n",
    "ax[0].set_title('original ')\n",
    "ax[1].set_title('minmax')\n",
    "\n",
    "df_n.plot.hist(ax= ax[0] )\n",
    "df_minmax.plot.hist(ax= ax[1] )\n",
    "plt.show()"
   ]
  },
  {
   "cell_type": "markdown",
   "metadata": {},
   "source": [
    "### 정규화"
   ]
  },
  {
   "cell_type": "markdown",
   "metadata": {},
   "source": [
    "정규화: StandardScaler 모든 변수의 값을 평균이 0이고 분산이 1인 정규 분포로 변환\n",
    "<br> sklearn.preprocessing / MinMaxScaler 활용"
   ]
  },
  {
   "cell_type": "markdown",
   "metadata": {},
   "source": [
    "$$Z = \\frac{ X - \\mu }{\\sigma} $$"
   ]
  },
  {
   "cell_type": "code",
   "execution_count": null,
   "metadata": {},
   "outputs": [],
   "source": [
    "# StandardScaler class\n",
    "from sklearn.preprocessing import StandardScaler"
   ]
  },
  {
   "cell_type": "code",
   "execution_count": null,
   "metadata": {},
   "outputs": [],
   "source": [
    "# StandardScaler 모델링\n"
   ]
  },
  {
   "cell_type": "code",
   "execution_count": null,
   "metadata": {},
   "outputs": [],
   "source": [
    "# StandardScaler fit, transform\n"
   ]
  },
  {
   "cell_type": "code",
   "execution_count": null,
   "metadata": {
    "scrolled": false
   },
   "outputs": [],
   "source": [
    "#시각화 \n",
    "fig, ax = plt.subplots( nrows= 1 , ncols=3, figsize=(14, 5))\n",
    "\n",
    "sns.histplot(x='salary', data=df, ax= ax[0])\n",
    "sns.histplot(x='salary', data=df_minmax, ax= ax[1], color='green')\n",
    "sns.histplot(x='salary', data=df_stan, ax= ax[2], color='orange')\n",
    "\n",
    "ax[0].set_title('df salary histplot')\n",
    "ax[1].set_title('df_minmax salary histplot')\n",
    "ax[2].set_title('df_stan salary histplot')\n",
    "plt.show()"
   ]
  },
  {
   "cell_type": "code",
   "execution_count": null,
   "metadata": {},
   "outputs": [],
   "source": [
    "# StandardScaler class\n",
    "from sklearn.preprocessing import StandardScaler"
   ]
  },
  {
   "cell_type": "code",
   "execution_count": null,
   "metadata": {},
   "outputs": [],
   "source": [
    "# StandardScaler 모델링\n"
   ]
  },
  {
   "cell_type": "code",
   "execution_count": null,
   "metadata": {},
   "outputs": [],
   "source": [
    "# StandardScaler fit, transform\n"
   ]
  },
  {
   "cell_type": "markdown",
   "metadata": {},
   "source": [
    "### 정규화, train, test분리시 적용\n",
    "\n",
    "- train으로 정규화 모델을 만들었을때\n",
    "- test도 train 정규화 모델을 사용해야 같은 scale로 scaling된다"
   ]
  },
  {
   "cell_type": "code",
   "execution_count": null,
   "metadata": {},
   "outputs": [],
   "source": [
    "# train_test_split\n",
    "from sklearn.model_selection import train_test_split\n"
   ]
  },
  {
   "cell_type": "code",
   "execution_count": null,
   "metadata": {},
   "outputs": [],
   "source": [
    "# 연속형 변수 추출\n"
   ]
  },
  {
   "cell_type": "code",
   "execution_count": null,
   "metadata": {},
   "outputs": [],
   "source": [
    "# train data StandardScaler fit까지로 StandardScaler를 만든다\n",
    "from sklearn.preprocessing import StandardScaler\n"
   ]
  },
  {
   "cell_type": "code",
   "execution_count": null,
   "metadata": {
    "scrolled": false
   },
   "outputs": [],
   "source": [
    "# train에 대해 transform을 실행하여 train data를 StandardScaling\n"
   ]
  },
  {
   "cell_type": "code",
   "execution_count": null,
   "metadata": {},
   "outputs": [],
   "source": [
    "# test data는 traind의 StandardScaler를 적용해 transform\n"
   ]
  },
  {
   "cell_type": "code",
   "execution_count": null,
   "metadata": {},
   "outputs": [],
   "source": [
    "# train data df화\n"
   ]
  },
  {
   "cell_type": "code",
   "execution_count": null,
   "metadata": {},
   "outputs": [],
   "source": [
    "# test data df화\n"
   ]
  },
  {
   "cell_type": "code",
   "execution_count": null,
   "metadata": {
    "scrolled": false
   },
   "outputs": [],
   "source": [
    "# train data EDA\n"
   ]
  },
  {
   "cell_type": "code",
   "execution_count": null,
   "metadata": {},
   "outputs": [],
   "source": [
    "#시각화 \n",
    "fig, ax = plt.subplots( nrows= 1 , ncols=2, figsize=(14, 5))\n",
    "\n",
    "ax[0].set_title('train ')\n",
    "ax[1].set_title('test')\n",
    "\n",
    "df_train_std.plot.hist(ax= ax[0] )\n",
    "df_test_std.plot.hist(ax= ax[1] )\n",
    "plt.show()"
   ]
  },
  {
   "cell_type": "markdown",
   "metadata": {
    "id": "EfdUKiR4x6-Q"
   },
   "source": [
    "## 4-1 Feature Engeering\n",
    "\n",
    "변수 선택\n",
    "\n",
    "- 종속변수(expenditure)\n",
    "\n",
    "- 독립변수 수치형 변수중 회귀계수가 높은 2개 선정 (feature selection) 하시오\n",
    "- 독립변수 수치형 변수중 t검정 통계량의 p-value가 0.05이하인것을 선정하시오\n"
   ]
  },
  {
   "cell_type": "code",
   "execution_count": null,
   "metadata": {
    "colab": {
     "base_uri": "https://localhost:8080/",
     "height": 520
    },
    "executionInfo": {
     "elapsed": 705,
     "status": "ok",
     "timestamp": 1668729161665,
     "user": {
      "displayName": "jinyang park",
      "userId": "06576046992691541404"
     },
     "user_tz": -540
    },
    "id": "FN6GLA0k-FqZ",
    "outputId": "11022141-c038-4cd1-c89d-64c22862444d"
   },
   "outputs": [],
   "source": [
    "# ols 방식\n",
    "#종속변수: 소비액 / 독립변수: 신장 / 나이 / 연봉 \n",
    "from statsmodels.formula.api import ols\n",
    "\n",
    "# LinearRegression 방식\n",
    "from sklearn.linear_model import LinearRegression\n"
   ]
  },
  {
   "cell_type": "markdown",
   "metadata": {},
   "source": [
    "## 4-2 Feature Engeering\n",
    "\n",
    "보스톤 집값 데이터 셋(출처: sklearn 라이브러리) "
   ]
  },
  {
   "cell_type": "markdown",
   "metadata": {},
   "source": [
    "데이터(sklearn_boston.csv) 사이즈 : 506 X 14\n",
    "<br> \n",
    "<br> <b>crim:</b> 자치시 별 1인당 범죄율\n",
    "<br> <b>zn:</b> 25,000 평방피트 초과하는 거주지역 비율\n",
    "<br> <b>indus:</b> 비소매상업지역 점유하고 있는 토지 비율 \n",
    "<br> <b>chas:</b> 찰스강에 대한 더미 변수(강 경계 1, 아니면 0) \n",
    "<br> <b>nox:</b> 10ppm 당 농축 일산화 질소\n",
    "<br> <b>rm:</b> 주택 1가구당 평균 방의 개수 \n",
    "<br> <b>age:</b> 1940년 이전 건축된 소유주택 비율\n",
    "<br> <b>dis:</b> 5개 보스턴 직업센터까지의 접근성 지수 \n",
    "<br> <b>rad:</b> 방사형 도로까지의 접근성 지수 \n",
    "<br> <b>tax:</b> 10,000 달러 당 재산세 율\n",
    "<br> <b>ptratio:</b> 자치시 별 학생 / 교사 비율 \n",
    "<br> <b>b:</b> 자치시별 흑인의 비율 \n",
    "<br> <b>lstat:</b> 모집단 하위계층 비율 \n",
    "<br> <b>price:</b> 본인 소유 주택 가격 \n",
    "\n",
    "<br> 1. 종속변수 : price\n",
    "<br> 2. 독립변수 : price를 제외한 모든 변수\n",
    "<br> 3. feature selection을 통해 p-value 값 0.05 미만 / coef 절대값 0.5이상인 변수를 선택하시오\n",
    "<br> ------------------------------------------------------------------------------------------\n",
    "<br> 4. train, test 분리하여 다음을 수행 (train_size=0.8, random_state=123)\n",
    "<br> 5. 선택된 독립변수를 사용하여 선형회귀식을 만들고 RMSE를 구하시오 "
   ]
  },
  {
   "cell_type": "code",
   "execution_count": null,
   "metadata": {},
   "outputs": [],
   "source": [
    "# 파일 로드 \n",
    "boston = pd.read_csv('.\\\\data\\\\sklearn_boston.csv')\n",
    "boston"
   ]
  },
  {
   "cell_type": "code",
   "execution_count": null,
   "metadata": {
    "scrolled": false
   },
   "outputs": [],
   "source": [
    "boston.info()"
   ]
  },
  {
   "cell_type": "code",
   "execution_count": null,
   "metadata": {
    "scrolled": false
   },
   "outputs": [],
   "source": [
    "# step1) 변수 생성\n",
    "boston.columns"
   ]
  },
  {
   "cell_type": "code",
   "execution_count": null,
   "metadata": {},
   "outputs": [],
   "source": [
    "# join\n",
    "' + '.join(boston.columns)\n",
    "'A' + ' + '.join(boston.columns.drop('price'))\n",
    "'price ~ ' + ' + '.join(boston.columns.drop('price'))"
   ]
  },
  {
   "cell_type": "code",
   "execution_count": null,
   "metadata": {},
   "outputs": [],
   "source": [
    "'price ~ ' + ' + '.join(boston.columns.drop('price'))"
   ]
  },
  {
   "cell_type": "code",
   "execution_count": null,
   "metadata": {},
   "outputs": [],
   "source": [
    "# step2) formula 생성\n"
   ]
  },
  {
   "cell_type": "code",
   "execution_count": null,
   "metadata": {
    "scrolled": false
   },
   "outputs": [],
   "source": [
    "# step3) feature selection을 통해 p-value 값 0.05 미만 / coef 절대값 0.5이상인 변수를 선택하시오\n",
    "# ols, fit, summary\n",
    "from statsmodels.formula.api import ols\n"
   ]
  },
  {
   "cell_type": "code",
   "execution_count": null,
   "metadata": {
    "scrolled": false
   },
   "outputs": [],
   "source": [
    "# p-value 값 0.05 미만 / coef 절대값 0.5이상인 변수를 선택\n"
   ]
  },
  {
   "cell_type": "code",
   "execution_count": null,
   "metadata": {},
   "outputs": [],
   "source": [
    "# step4) train, test 분리(train_size=0.8, random_state=123)\n",
    "\n"
   ]
  },
  {
   "cell_type": "code",
   "execution_count": null,
   "metadata": {},
   "outputs": [],
   "source": [
    "# formula 생성\n"
   ]
  },
  {
   "cell_type": "code",
   "execution_count": null,
   "metadata": {},
   "outputs": [],
   "source": [
    "# step5) 선택된 독립변수를 사용하여 선형회귀식 생성\n",
    "from statsmodels.formula.api import ols\n"
   ]
  },
  {
   "cell_type": "code",
   "execution_count": null,
   "metadata": {},
   "outputs": [],
   "source": [
    "# summary\n"
   ]
  },
  {
   "cell_type": "code",
   "execution_count": null,
   "metadata": {},
   "outputs": [],
   "source": [
    "# step5) RMSE\n"
   ]
  },
  {
   "cell_type": "markdown",
   "metadata": {},
   "source": [
    "## 4-3 Feature Engeering - 다중 공선성 VIF"
   ]
  },
  {
   "cell_type": "code",
   "execution_count": null,
   "metadata": {
    "scrolled": false
   },
   "outputs": [],
   "source": [
    "boston"
   ]
  },
  {
   "cell_type": "code",
   "execution_count": null,
   "metadata": {
    "scrolled": false
   },
   "outputs": [],
   "source": [
    "# 상관관계 분석\n",
    "boston.corr()"
   ]
  },
  {
   "cell_type": "code",
   "execution_count": null,
   "metadata": {
    "scrolled": true
   },
   "outputs": [],
   "source": [
    "# 상관관계 매트릭스 시각화 \n",
    "plt.figure( figsize=(10, 10))\n",
    "sns.heatmap(boston.corr(), annot=True , cbar=True)\n",
    "plt.show()"
   ]
  },
  {
   "cell_type": "code",
   "execution_count": null,
   "metadata": {},
   "outputs": [],
   "source": [
    "#다중 공선성 VIF 구하기 \n",
    "\n",
    "from statsmodels.stats.outliers_influence import variance_inflation_factor\n",
    "\n",
    "vif = pd.DataFrame()\n",
    "vif[\"VIF Factor\"] = [variance_inflation_factor(boston.values, i) for i in range(boston.shape[1])]\n",
    "vif[\"features\"] = boston.columns\n",
    "vif.sort_values('VIF Factor', ascending = False)"
   ]
  },
  {
   "cell_type": "markdown",
   "metadata": {
    "id": "Ht5WvWhG6tun"
   },
   "source": [
    "##  $\\Sigma$ (시그마) Quiz"
   ]
  },
  {
   "cell_type": "markdown",
   "metadata": {
    "id": "joz0fttoOWYJ"
   },
   "source": [
    "### quiz 1) 자전거공유플랫폼 데이터 셋 활용\n",
    "\n",
    "□ df_bike.csv 파일을 읽고 (데이터 객체명 : df_bike)\n",
    "train, test로 분리하시오 (random_state=123)\n",
    "\n",
    "  - sklearn.model_selection / train_test_split 메소드를 쓸 것(데이터셋은 df_bike_train, df_bike_test로 명명)\n",
    "\n",
    "  1_1. df_bike_train내 대여건수인 'riders' 변수와 'temp', 'feelslike', 'humidity', 'windspeed', 'casual'\n",
    "    <br> 간 pearson 상관계수를 확인, 'riders' 변수와 비교해 가장 상관계수 절대값이 큰 변수를 구하시오\n",
    "\n",
    "- df_bike_train으로 자건거 대여건수(riders)와 'temp'변수와 단일 회귀분석을 실시하고 \n",
    "\n",
    "  1_2. 회귀계수를 구하시오\n",
    "\n",
    "  1_3. df_bike_test의 대여건수를 예측(pred_count)하고, 예측치의 중앙값을 구하시오\n",
    "\n",
    "  1_4. df_bike_test의 대여건수 예측치(pred_count)와 실제값(riders)의 RMSE를 구하시오\n",
    "\n",
    "  1_5. df_bike_train의 자건거 대여건수(riders)를 종속변수로 하고, 'temp', 'feelslike', 'humidity', 'windspeed', 'casual'\n",
    "  \n",
    "    5개 독립변수로 다중 회귀분석을 하고자 한다.\n",
    "    \n",
    "    \n",
    "    이때 해당 모델의 결정계수를 구하고 통계적으로 유의미한 변수와 해당변수의 회귀값을 구하시오  \n",
    "\n",
    "** bike dataset 설명\n",
    "https://www.scikit-yb.org/en/latest/api/datasets/bikeshare.html"
   ]
  },
  {
   "cell_type": "code",
   "execution_count": null,
   "metadata": {
    "colab": {
     "base_uri": "https://localhost:8080/"
    },
    "executionInfo": {
     "elapsed": 599,
     "status": "ok",
     "timestamp": 1668729272247,
     "user": {
      "displayName": "jinyang park",
      "userId": "06576046992691541404"
     },
     "user_tz": -540
    },
    "id": "a1oRghwKFPT-",
    "outputId": "b7fdb46a-0ca9-4ca3-9897-037ce6a6a573"
   },
   "outputs": [],
   "source": [
    "# 파일 로딩 \n",
    "df_bike = pd.read_csv('.\\\\data\\\\yellowbrick_bikeshare.csv')\n",
    "\n",
    "# # 데이터 분리 \n",
    "from sklearn.model_selection import train_test_split\n",
    "df_bike_train, df_bike_test = train_test_split(df_bike, train_size= 0.7, random_state=123)\n",
    "print('df', len(df_bike), 'df_bike_train', len(df_bike_train), 'df_bike_test', len(df_bike_test))\n",
    "\n",
    "df_bike_train[['riders', 'temp', 'feelslike', 'humidity', 'windspeed', 'casual']].corr().abs().sort_values('riders', ascending=False)\n",
    "# casual, 0.695529"
   ]
  },
  {
   "cell_type": "code",
   "execution_count": null,
   "metadata": {
    "executionInfo": {
     "elapsed": 10,
     "status": "ok",
     "timestamp": 1668729277458,
     "user": {
      "displayName": "jinyang park",
      "userId": "06576046992691541404"
     },
     "user_tz": -540
    },
    "id": "BcC2XRybw3Uu"
   },
   "outputs": [],
   "source": [
    "# 관련 메소드 호출\n",
    "from sklearn.linear_model import LinearRegression\n",
    "from statsmodels.formula.api import ols\n",
    "from sklearn.metrics import mean_squared_error, mean_absolute_error"
   ]
  },
  {
   "cell_type": "code",
   "execution_count": null,
   "metadata": {
    "colab": {
     "base_uri": "https://localhost:8080/",
     "height": 444
    },
    "executionInfo": {
     "elapsed": 6,
     "status": "ok",
     "timestamp": 1668729277819,
     "user": {
      "displayName": "jinyang park",
      "userId": "06576046992691541404"
     },
     "user_tz": -540
    },
    "id": "lUb_H68Q37Z4",
    "outputId": "24b574d1-a329-4a38-d9bb-b80dd7926bdd"
   },
   "outputs": [],
   "source": [
    "# 1_2. 모델 Training, 회귀계수 (statemodels)\n",
    "\n",
    "# # OLS 모델, 1_2. 모델 Training, 회귀계수 (statemodels)\n",
    "\n",
    "# 1_2. 모델 Training, 회귀계수 (sklearn)    \n",
    "from sklearn.linear_model import LinearRegression\n",
    "\n",
    "# 1_3. df_bike_test 예측치의 중앙값을 구하시오\n",
    "\n",
    "# 1_4. df_bike_test pred_count와 count의 RMSE\n",
    "\n",
    "# 1_5. feature selection\n"
   ]
  },
  {
   "cell_type": "markdown",
   "metadata": {
    "id": "JLD7UQChjoSN"
   },
   "source": [
    "## quiz 2) 다이아몬드 데이터 셋 활용\n",
    "\n",
    "- diamond.csv 파일을 읽고 (df_dia)\n",
    "train, test로 분리하시오 (random_state=123) (df_dia_train, df_dia_test)\n",
    "\n",
    "- df_dia_train으로 선형회귀분석을 실시하고 아래에 답하시오\n",
    "\n",
    "  2_1. 종속변수(price), 독립변수(carat, depth)일때 독립변수의 회귀계수를 구하시오\n",
    "\n",
    "  2_2. 종속변수(price), 독립변수(carat, depth, color)일때 df_dia_test price의 예측값 평균을 구하시오\n",
    "\n",
    "    'color'는 더미변수로 변형하고 가변수를 생성시 마지막 변수 하나를 제거하시오 \n",
    "\n",
    "  2_3. 2_2 조건으로 df_dia_test의 값이 (carat: 1, color: 'E' , depth: 50)일때 price 예측값을 구하시오 \n",
    "\n",
    "** dia dataset 설명 https://www.kaggle.com/datasets/shivam2503/diamonds"
   ]
  },
  {
   "cell_type": "code",
   "execution_count": null,
   "metadata": {
    "colab": {
     "base_uri": "https://localhost:8080/"
    },
    "executionInfo": {
     "elapsed": 303,
     "status": "ok",
     "timestamp": 1668729282566,
     "user": {
      "displayName": "jinyang park",
      "userId": "06576046992691541404"
     },
     "user_tz": -540
    },
    "id": "7IYxKTIciMwb",
    "outputId": "db28c295-7382-4d47-955f-24024b62422d"
   },
   "outputs": [],
   "source": [
    "# 파일 로딩 \n",
    "df_dia = pd.read_csv('.\\\\data\\\\diamonds.csv')\n",
    "\n",
    "# 데이터 분리 \n",
    "from sklearn.model_selection import train_test_split\n",
    "df_dia_train, df_dia_test = train_test_split(df_dia, train_size= 0.7, random_state=123)\n",
    "print('df', len(df_dia), 'df_dia_train', len(df_dia_train), 'df_dia_test', len(df_dia_test))\n",
    "df_dia.head(5)"
   ]
  },
  {
   "cell_type": "code",
   "execution_count": null,
   "metadata": {
    "executionInfo": {
     "elapsed": 3,
     "status": "ok",
     "timestamp": 1668729283663,
     "user": {
      "displayName": "jinyang park",
      "userId": "06576046992691541404"
     },
     "user_tz": -540
    },
    "id": "CTCNxp3Ijfdw"
   },
   "outputs": [],
   "source": [
    "# 관련 메소드 호출\n",
    "from sklearn.linear_model import LinearRegression\n",
    "from statsmodels.formula.api import ols\n",
    "from sklearn.metrics import mean_squared_error, mean_absolute_error"
   ]
  },
  {
   "cell_type": "code",
   "execution_count": null,
   "metadata": {
    "colab": {
     "base_uri": "https://localhost:8080/",
     "height": 499
    },
    "executionInfo": {
     "elapsed": 6,
     "status": "ok",
     "timestamp": 1668729284342,
     "user": {
      "displayName": "jinyang park",
      "userId": "06576046992691541404"
     },
     "user_tz": -540
    },
    "id": "LGdJ6mDnqvhZ",
    "outputId": "ee56fda8-18a9-4161-dfec-6f43a3cf967d"
   },
   "outputs": [],
   "source": [
    "# 2_1. 모델 Training, 회귀계수 (statemodels)\n",
    "\n",
    "# 2_1. 모델 Training, 회귀계수 (sklearn)    \n",
    "# X, y값 세팅\n",
    "\n",
    "# 2_2. 범주형 data 가변수화  \n",
    "\n",
    "# 데이터 분리 \n",
    "from sklearn.model_selection import train_test_split\n",
    "\n",
    "# X, y값 세팅  ['carat', 'depth', 'color_D', 'color_E', 'color_F', 'color_G', 'color_H', 'color_I'] ['price']\n",
    "\n",
    "# LinearRegression, fit, predict\n",
    "from sklearn.linear_model import LinearRegression\n",
    "\n",
    "# 2_2. answer (mean)\n",
    "\n",
    "# 2_3. 독립변수 직접입력 방식\n",
    "# df_dia_test(carat: 1, depth: 50, color: 'E'  )일때 price 예측값\n",
    "\n",
    "# 2_3. answer \n"
   ]
  },
  {
   "cell_type": "markdown",
   "metadata": {
    "id": "UMmbOFkyab_z"
   },
   "source": [
    "## $\\Omega$(오메가) Quiz\n",
    "\n",
    "- yellowbrick_bikeshare.csv 파일을 읽고 (객체명 : df_bike)\n",
    "\n",
    "  3-1 season column을 사용하여 여름(df_bike_summer)과 겨울(df_bike_winter)로 구분하시오\n",
    "\n",
    "  3_2 df_bike_summer, df_bike_winter를  train, test로 분리하시오 (df_summer_tr, df_summer_te, df_winter_tr, df_winter_te, random_state=123 )\n",
    "\n",
    "  3_3. statemodels를 사용하여 종속변수(riders), 독립변수(temp)로 train 시키고 여름과 겨울의 RMSE차이를 구하시오"
   ]
  },
  {
   "cell_type": "code",
   "execution_count": null,
   "metadata": {
    "executionInfo": {
     "elapsed": 3,
     "status": "ok",
     "timestamp": 1668729293917,
     "user": {
      "displayName": "jinyang park",
      "userId": "06576046992691541404"
     },
     "user_tz": -540
    },
    "id": "Vv5Bpo_ycZBs"
   },
   "outputs": [],
   "source": [
    "# 파일 로딩 \n",
    "df_bike = pd.read_csv('.\\\\data\\\\yellowbrick_bikeshare.csv')\n",
    "\n",
    "# 3-1 데이터 분리\n",
    "\n",
    "# 3-2 train, test 분리\n",
    "\n",
    "from sklearn.model_selection import train_test_split\n",
    "\n",
    "# 3-3 train, predict\n",
    "from statsmodels.formula.api import ols\n",
    "\n",
    "\n",
    "# 3-3 RMSE\n"
   ]
  },
  {
   "cell_type": "code",
   "execution_count": null,
   "metadata": {
    "scrolled": false
   },
   "outputs": [],
   "source": [
    "#시각화 \n",
    "fig, ax = plt.subplots( nrows= 1 , ncols=2, figsize=(14, 5))\n",
    "\n",
    "sns.regplot(x='temp', y='riders', data=df_summer_tr, ax= ax[0], color='green')\n",
    "sns.regplot(x='temp', y='riders', data=df_winter_tr, ax= ax[1])\n",
    "\n",
    "ax[0].set_title('df_summer_tr')\n",
    "ax[1].set_title('df_winter_tr')\n",
    "plt.show()"
   ]
  },
  {
   "cell_type": "code",
   "execution_count": null,
   "metadata": {},
   "outputs": [],
   "source": []
  }
 ],
 "metadata": {
  "colab": {
   "authorship_tag": "ABX9TyMDMucM2pMTNZILG4KX61Uv",
   "collapsed_sections": [
    "4JTxsWF-5sXG",
    "hfMi2HeL4piH",
    "5YwW9JcI1BcB",
    "0DC3DnJKED-q",
    "7OEylfG6Ou24",
    "z4IpIXV-edh3",
    "vhWiJegbvSiL",
    "rttRLvNIl51S",
    "X7ZNaAeiw8e1",
    "LrwKIIBM3AuA",
    "JpMOZEbbpdH6",
    "Ht5WvWhG6tun",
    "joz0fttoOWYJ"
   ],
   "provenance": [],
   "toc_visible": true
  },
  "kernelspec": {
   "display_name": "Python 3 (ipykernel)",
   "language": "python",
   "name": "python3"
  },
  "language_info": {
   "codemirror_mode": {
    "name": "ipython",
    "version": 3
   },
   "file_extension": ".py",
   "mimetype": "text/x-python",
   "name": "python",
   "nbconvert_exporter": "python",
   "pygments_lexer": "ipython3",
   "version": "3.9.13"
  }
 },
 "nbformat": 4,
 "nbformat_minor": 1
}
